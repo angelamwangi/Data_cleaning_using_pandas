{
 "cells": [
  {
   "cell_type": "code",
   "id": "initial_id",
   "metadata": {
    "collapsed": true,
    "ExecuteTime": {
     "end_time": "2025-04-12T13:02:00.908967Z",
     "start_time": "2025-04-12T13:01:56.474312Z"
    }
   },
   "source": [
    "#load data\n",
    "import pandas as pd\n",
    "data=pd.read_csv(\"./adult-depression-lghc-indicator-24.csv\")\n",
    "data.head()"
   ],
   "outputs": [
    {
     "data": {
      "text/plain": [
       "   Year          Strata Strata Name  Frequency  Weighted Frequency  Percent  \\\n",
       "0  2012           Total       Total       1920                 NaN    11.74   \n",
       "1  2012             Sex        Male        561           1116664.0     8.12   \n",
       "2  2012             Sex      Female       1359           2163108.0    15.25   \n",
       "3  2012  Race-Ethnicity       White       1314           1806371.0    14.57   \n",
       "4  2012  Race-Ethnicity       Black         97            222022.0    13.54   \n",
       "\n",
       "   Lower 95% CL  Upper 95% CL  \n",
       "0         11.11         12.37  \n",
       "1          7.32          8.92  \n",
       "2         14.30         16.20  \n",
       "3         13.67         15.46  \n",
       "4         10.44         16.65  "
      ],
      "text/html": [
       "<div>\n",
       "<style scoped>\n",
       "    .dataframe tbody tr th:only-of-type {\n",
       "        vertical-align: middle;\n",
       "    }\n",
       "\n",
       "    .dataframe tbody tr th {\n",
       "        vertical-align: top;\n",
       "    }\n",
       "\n",
       "    .dataframe thead th {\n",
       "        text-align: right;\n",
       "    }\n",
       "</style>\n",
       "<table border=\"1\" class=\"dataframe\">\n",
       "  <thead>\n",
       "    <tr style=\"text-align: right;\">\n",
       "      <th></th>\n",
       "      <th>Year</th>\n",
       "      <th>Strata</th>\n",
       "      <th>Strata Name</th>\n",
       "      <th>Frequency</th>\n",
       "      <th>Weighted Frequency</th>\n",
       "      <th>Percent</th>\n",
       "      <th>Lower 95% CL</th>\n",
       "      <th>Upper 95% CL</th>\n",
       "    </tr>\n",
       "  </thead>\n",
       "  <tbody>\n",
       "    <tr>\n",
       "      <th>0</th>\n",
       "      <td>2012</td>\n",
       "      <td>Total</td>\n",
       "      <td>Total</td>\n",
       "      <td>1920</td>\n",
       "      <td>NaN</td>\n",
       "      <td>11.74</td>\n",
       "      <td>11.11</td>\n",
       "      <td>12.37</td>\n",
       "    </tr>\n",
       "    <tr>\n",
       "      <th>1</th>\n",
       "      <td>2012</td>\n",
       "      <td>Sex</td>\n",
       "      <td>Male</td>\n",
       "      <td>561</td>\n",
       "      <td>1116664.0</td>\n",
       "      <td>8.12</td>\n",
       "      <td>7.32</td>\n",
       "      <td>8.92</td>\n",
       "    </tr>\n",
       "    <tr>\n",
       "      <th>2</th>\n",
       "      <td>2012</td>\n",
       "      <td>Sex</td>\n",
       "      <td>Female</td>\n",
       "      <td>1359</td>\n",
       "      <td>2163108.0</td>\n",
       "      <td>15.25</td>\n",
       "      <td>14.30</td>\n",
       "      <td>16.20</td>\n",
       "    </tr>\n",
       "    <tr>\n",
       "      <th>3</th>\n",
       "      <td>2012</td>\n",
       "      <td>Race-Ethnicity</td>\n",
       "      <td>White</td>\n",
       "      <td>1314</td>\n",
       "      <td>1806371.0</td>\n",
       "      <td>14.57</td>\n",
       "      <td>13.67</td>\n",
       "      <td>15.46</td>\n",
       "    </tr>\n",
       "    <tr>\n",
       "      <th>4</th>\n",
       "      <td>2012</td>\n",
       "      <td>Race-Ethnicity</td>\n",
       "      <td>Black</td>\n",
       "      <td>97</td>\n",
       "      <td>222022.0</td>\n",
       "      <td>13.54</td>\n",
       "      <td>10.44</td>\n",
       "      <td>16.65</td>\n",
       "    </tr>\n",
       "  </tbody>\n",
       "</table>\n",
       "</div>"
      ]
     },
     "execution_count": 2,
     "metadata": {},
     "output_type": "execute_result"
    }
   ],
   "execution_count": 2
  },
  {
   "metadata": {
    "ExecuteTime": {
     "end_time": "2025-04-12T13:02:57.510485Z",
     "start_time": "2025-04-12T13:02:57.490136Z"
    }
   },
   "cell_type": "code",
   "source": "data.info()",
   "id": "45ce6117b7b9d170",
   "outputs": [
    {
     "name": "stdout",
     "output_type": "stream",
     "text": [
      "<class 'pandas.core.frame.DataFrame'>\n",
      "RangeIndex: 161 entries, 0 to 160\n",
      "Data columns (total 8 columns):\n",
      " #   Column              Non-Null Count  Dtype  \n",
      "---  ------              --------------  -----  \n",
      " 0   Year                161 non-null    int64  \n",
      " 1   Strata              161 non-null    object \n",
      " 2   Strata Name         161 non-null    object \n",
      " 3   Frequency           161 non-null    int64  \n",
      " 4   Weighted Frequency  154 non-null    float64\n",
      " 5   Percent             161 non-null    float64\n",
      " 6   Lower 95% CL        161 non-null    float64\n",
      " 7   Upper 95% CL        161 non-null    float64\n",
      "dtypes: float64(4), int64(2), object(2)\n",
      "memory usage: 10.2+ KB\n"
     ]
    }
   ],
   "execution_count": 3
  },
  {
   "metadata": {
    "ExecuteTime": {
     "end_time": "2025-04-12T13:03:58.194598Z",
     "start_time": "2025-04-12T13:03:58.170785Z"
    }
   },
   "cell_type": "code",
   "source": "data.value_counts(\"Year\")",
   "id": "c26cbf3a9f7866f5",
   "outputs": [
    {
     "data": {
      "text/plain": [
       "Year\n",
       "2012    23\n",
       "2013    23\n",
       "2014    23\n",
       "2015    23\n",
       "2016    23\n",
       "2017    23\n",
       "2018    23\n",
       "Name: count, dtype: int64"
      ]
     },
     "execution_count": 4,
     "metadata": {},
     "output_type": "execute_result"
    }
   ],
   "execution_count": 4
  },
  {
   "metadata": {
    "ExecuteTime": {
     "end_time": "2025-04-12T13:05:59.246591Z",
     "start_time": "2025-04-12T13:05:59.235245Z"
    }
   },
   "cell_type": "code",
   "source": "data.shape",
   "id": "b06dff35fa9bf2f9",
   "outputs": [
    {
     "data": {
      "text/plain": [
       "(161, 8)"
      ]
     },
     "execution_count": 7,
     "metadata": {},
     "output_type": "execute_result"
    }
   ],
   "execution_count": 7
  },
  {
   "metadata": {
    "ExecuteTime": {
     "end_time": "2025-04-12T13:06:31.358172Z",
     "start_time": "2025-04-12T13:06:31.342470Z"
    }
   },
   "cell_type": "code",
   "source": "data.isnull()",
   "id": "c2568ad012d9c5e7",
   "outputs": [
    {
     "data": {
      "text/plain": [
       "      Year  Strata  Strata Name  Frequency  Weighted Frequency  Percent  \\\n",
       "0    False   False        False      False                True    False   \n",
       "1    False   False        False      False               False    False   \n",
       "2    False   False        False      False               False    False   \n",
       "3    False   False        False      False               False    False   \n",
       "4    False   False        False      False               False    False   \n",
       "..     ...     ...          ...        ...                 ...      ...   \n",
       "156  False   False        False      False               False    False   \n",
       "157  False   False        False      False               False    False   \n",
       "158  False   False        False      False               False    False   \n",
       "159  False   False        False      False               False    False   \n",
       "160  False   False        False      False               False    False   \n",
       "\n",
       "     Lower 95% CL  Upper 95% CL  \n",
       "0           False         False  \n",
       "1           False         False  \n",
       "2           False         False  \n",
       "3           False         False  \n",
       "4           False         False  \n",
       "..            ...           ...  \n",
       "156         False         False  \n",
       "157         False         False  \n",
       "158         False         False  \n",
       "159         False         False  \n",
       "160         False         False  \n",
       "\n",
       "[161 rows x 8 columns]"
      ],
      "text/html": [
       "<div>\n",
       "<style scoped>\n",
       "    .dataframe tbody tr th:only-of-type {\n",
       "        vertical-align: middle;\n",
       "    }\n",
       "\n",
       "    .dataframe tbody tr th {\n",
       "        vertical-align: top;\n",
       "    }\n",
       "\n",
       "    .dataframe thead th {\n",
       "        text-align: right;\n",
       "    }\n",
       "</style>\n",
       "<table border=\"1\" class=\"dataframe\">\n",
       "  <thead>\n",
       "    <tr style=\"text-align: right;\">\n",
       "      <th></th>\n",
       "      <th>Year</th>\n",
       "      <th>Strata</th>\n",
       "      <th>Strata Name</th>\n",
       "      <th>Frequency</th>\n",
       "      <th>Weighted Frequency</th>\n",
       "      <th>Percent</th>\n",
       "      <th>Lower 95% CL</th>\n",
       "      <th>Upper 95% CL</th>\n",
       "    </tr>\n",
       "  </thead>\n",
       "  <tbody>\n",
       "    <tr>\n",
       "      <th>0</th>\n",
       "      <td>False</td>\n",
       "      <td>False</td>\n",
       "      <td>False</td>\n",
       "      <td>False</td>\n",
       "      <td>True</td>\n",
       "      <td>False</td>\n",
       "      <td>False</td>\n",
       "      <td>False</td>\n",
       "    </tr>\n",
       "    <tr>\n",
       "      <th>1</th>\n",
       "      <td>False</td>\n",
       "      <td>False</td>\n",
       "      <td>False</td>\n",
       "      <td>False</td>\n",
       "      <td>False</td>\n",
       "      <td>False</td>\n",
       "      <td>False</td>\n",
       "      <td>False</td>\n",
       "    </tr>\n",
       "    <tr>\n",
       "      <th>2</th>\n",
       "      <td>False</td>\n",
       "      <td>False</td>\n",
       "      <td>False</td>\n",
       "      <td>False</td>\n",
       "      <td>False</td>\n",
       "      <td>False</td>\n",
       "      <td>False</td>\n",
       "      <td>False</td>\n",
       "    </tr>\n",
       "    <tr>\n",
       "      <th>3</th>\n",
       "      <td>False</td>\n",
       "      <td>False</td>\n",
       "      <td>False</td>\n",
       "      <td>False</td>\n",
       "      <td>False</td>\n",
       "      <td>False</td>\n",
       "      <td>False</td>\n",
       "      <td>False</td>\n",
       "    </tr>\n",
       "    <tr>\n",
       "      <th>4</th>\n",
       "      <td>False</td>\n",
       "      <td>False</td>\n",
       "      <td>False</td>\n",
       "      <td>False</td>\n",
       "      <td>False</td>\n",
       "      <td>False</td>\n",
       "      <td>False</td>\n",
       "      <td>False</td>\n",
       "    </tr>\n",
       "    <tr>\n",
       "      <th>...</th>\n",
       "      <td>...</td>\n",
       "      <td>...</td>\n",
       "      <td>...</td>\n",
       "      <td>...</td>\n",
       "      <td>...</td>\n",
       "      <td>...</td>\n",
       "      <td>...</td>\n",
       "      <td>...</td>\n",
       "    </tr>\n",
       "    <tr>\n",
       "      <th>156</th>\n",
       "      <td>False</td>\n",
       "      <td>False</td>\n",
       "      <td>False</td>\n",
       "      <td>False</td>\n",
       "      <td>False</td>\n",
       "      <td>False</td>\n",
       "      <td>False</td>\n",
       "      <td>False</td>\n",
       "    </tr>\n",
       "    <tr>\n",
       "      <th>157</th>\n",
       "      <td>False</td>\n",
       "      <td>False</td>\n",
       "      <td>False</td>\n",
       "      <td>False</td>\n",
       "      <td>False</td>\n",
       "      <td>False</td>\n",
       "      <td>False</td>\n",
       "      <td>False</td>\n",
       "    </tr>\n",
       "    <tr>\n",
       "      <th>158</th>\n",
       "      <td>False</td>\n",
       "      <td>False</td>\n",
       "      <td>False</td>\n",
       "      <td>False</td>\n",
       "      <td>False</td>\n",
       "      <td>False</td>\n",
       "      <td>False</td>\n",
       "      <td>False</td>\n",
       "    </tr>\n",
       "    <tr>\n",
       "      <th>159</th>\n",
       "      <td>False</td>\n",
       "      <td>False</td>\n",
       "      <td>False</td>\n",
       "      <td>False</td>\n",
       "      <td>False</td>\n",
       "      <td>False</td>\n",
       "      <td>False</td>\n",
       "      <td>False</td>\n",
       "    </tr>\n",
       "    <tr>\n",
       "      <th>160</th>\n",
       "      <td>False</td>\n",
       "      <td>False</td>\n",
       "      <td>False</td>\n",
       "      <td>False</td>\n",
       "      <td>False</td>\n",
       "      <td>False</td>\n",
       "      <td>False</td>\n",
       "      <td>False</td>\n",
       "    </tr>\n",
       "  </tbody>\n",
       "</table>\n",
       "<p>161 rows × 8 columns</p>\n",
       "</div>"
      ]
     },
     "execution_count": 8,
     "metadata": {},
     "output_type": "execute_result"
    }
   ],
   "execution_count": 8
  },
  {
   "metadata": {
    "ExecuteTime": {
     "end_time": "2025-04-12T13:07:45.487339Z",
     "start_time": "2025-04-12T13:07:45.460654Z"
    }
   },
   "cell_type": "code",
   "source": "data.describe().T",
   "id": "912dfc0e0c070504",
   "outputs": [
    {
     "data": {
      "text/plain": [
       "                    count           mean            std       min        25%  \\\n",
       "Year                161.0    2015.000000       2.006240   2012.00    2013.00   \n",
       "Frequency           161.0     429.776398     390.297867     28.00     186.00   \n",
       "Weighted Frequency  154.0  889891.681818  629914.504700  92309.00  459708.75   \n",
       "Percent             161.0      14.789627       4.589876      3.97      11.85   \n",
       "Lower 95% CL        161.0      11.955280       3.705456      2.00       9.65   \n",
       "Upper 95% CL        161.0      17.624224       5.890040      5.34      13.87   \n",
       "\n",
       "                          50%         75%         max  \n",
       "Year                  2015.00     2017.00     2018.00  \n",
       "Frequency              314.00      511.00     1964.00  \n",
       "Weighted Frequency  716480.50  1109084.25  3301418.00  \n",
       "Percent                 14.52       17.19       33.09  \n",
       "Lower 95% CL            11.55       14.60       24.60  \n",
       "Upper 95% CL            16.93       20.05       44.95  "
      ],
      "text/html": [
       "<div>\n",
       "<style scoped>\n",
       "    .dataframe tbody tr th:only-of-type {\n",
       "        vertical-align: middle;\n",
       "    }\n",
       "\n",
       "    .dataframe tbody tr th {\n",
       "        vertical-align: top;\n",
       "    }\n",
       "\n",
       "    .dataframe thead th {\n",
       "        text-align: right;\n",
       "    }\n",
       "</style>\n",
       "<table border=\"1\" class=\"dataframe\">\n",
       "  <thead>\n",
       "    <tr style=\"text-align: right;\">\n",
       "      <th></th>\n",
       "      <th>count</th>\n",
       "      <th>mean</th>\n",
       "      <th>std</th>\n",
       "      <th>min</th>\n",
       "      <th>25%</th>\n",
       "      <th>50%</th>\n",
       "      <th>75%</th>\n",
       "      <th>max</th>\n",
       "    </tr>\n",
       "  </thead>\n",
       "  <tbody>\n",
       "    <tr>\n",
       "      <th>Year</th>\n",
       "      <td>161.0</td>\n",
       "      <td>2015.000000</td>\n",
       "      <td>2.006240</td>\n",
       "      <td>2012.00</td>\n",
       "      <td>2013.00</td>\n",
       "      <td>2015.00</td>\n",
       "      <td>2017.00</td>\n",
       "      <td>2018.00</td>\n",
       "    </tr>\n",
       "    <tr>\n",
       "      <th>Frequency</th>\n",
       "      <td>161.0</td>\n",
       "      <td>429.776398</td>\n",
       "      <td>390.297867</td>\n",
       "      <td>28.00</td>\n",
       "      <td>186.00</td>\n",
       "      <td>314.00</td>\n",
       "      <td>511.00</td>\n",
       "      <td>1964.00</td>\n",
       "    </tr>\n",
       "    <tr>\n",
       "      <th>Weighted Frequency</th>\n",
       "      <td>154.0</td>\n",
       "      <td>889891.681818</td>\n",
       "      <td>629914.504700</td>\n",
       "      <td>92309.00</td>\n",
       "      <td>459708.75</td>\n",
       "      <td>716480.50</td>\n",
       "      <td>1109084.25</td>\n",
       "      <td>3301418.00</td>\n",
       "    </tr>\n",
       "    <tr>\n",
       "      <th>Percent</th>\n",
       "      <td>161.0</td>\n",
       "      <td>14.789627</td>\n",
       "      <td>4.589876</td>\n",
       "      <td>3.97</td>\n",
       "      <td>11.85</td>\n",
       "      <td>14.52</td>\n",
       "      <td>17.19</td>\n",
       "      <td>33.09</td>\n",
       "    </tr>\n",
       "    <tr>\n",
       "      <th>Lower 95% CL</th>\n",
       "      <td>161.0</td>\n",
       "      <td>11.955280</td>\n",
       "      <td>3.705456</td>\n",
       "      <td>2.00</td>\n",
       "      <td>9.65</td>\n",
       "      <td>11.55</td>\n",
       "      <td>14.60</td>\n",
       "      <td>24.60</td>\n",
       "    </tr>\n",
       "    <tr>\n",
       "      <th>Upper 95% CL</th>\n",
       "      <td>161.0</td>\n",
       "      <td>17.624224</td>\n",
       "      <td>5.890040</td>\n",
       "      <td>5.34</td>\n",
       "      <td>13.87</td>\n",
       "      <td>16.93</td>\n",
       "      <td>20.05</td>\n",
       "      <td>44.95</td>\n",
       "    </tr>\n",
       "  </tbody>\n",
       "</table>\n",
       "</div>"
      ]
     },
     "execution_count": 10,
     "metadata": {},
     "output_type": "execute_result"
    }
   ],
   "execution_count": 10
  },
  {
   "metadata": {
    "ExecuteTime": {
     "end_time": "2025-04-12T13:28:57.572498Z",
     "start_time": "2025-04-12T13:28:57.563475Z"
    }
   },
   "cell_type": "code",
   "source": "data.dropna(inplace=True)",
   "id": "f4bdb5462ae5b5eb",
   "outputs": [],
   "execution_count": 27
  },
  {
   "metadata": {
    "ExecuteTime": {
     "end_time": "2025-04-12T13:19:43.203452Z",
     "start_time": "2025-04-12T13:19:43.184450Z"
    }
   },
   "cell_type": "code",
   "source": "data.duplicated()",
   "id": "a32e1f6784ccde76",
   "outputs": [
    {
     "data": {
      "text/plain": [
       "0      False\n",
       "1      False\n",
       "2      False\n",
       "3      False\n",
       "4      False\n",
       "       ...  \n",
       "156    False\n",
       "157    False\n",
       "158    False\n",
       "159    False\n",
       "160    False\n",
       "Length: 161, dtype: bool"
      ]
     },
     "execution_count": 19,
     "metadata": {},
     "output_type": "execute_result"
    }
   ],
   "execution_count": 19
  },
  {
   "metadata": {
    "ExecuteTime": {
     "end_time": "2025-04-12T13:29:56.015812Z",
     "start_time": "2025-04-12T13:29:55.987084Z"
    }
   },
   "cell_type": "code",
   "source": "data.isna().sum()",
   "id": "7a8d4564f41114c7",
   "outputs": [
    {
     "data": {
      "text/plain": [
       "Year                  0\n",
       "Strata                0\n",
       "Strata Name           0\n",
       "Frequency             0\n",
       "Weighted Frequency    0\n",
       "Percent               0\n",
       "Lower 95% CL          0\n",
       "Upper 95% CL          0\n",
       "dtype: int64"
      ]
     },
     "execution_count": 28,
     "metadata": {},
     "output_type": "execute_result"
    }
   ],
   "execution_count": 28
  },
  {
   "metadata": {
    "ExecuteTime": {
     "end_time": "2025-04-12T13:54:50.459106Z",
     "start_time": "2025-04-12T13:54:49.217821Z"
    }
   },
   "cell_type": "code",
   "source": [
    "import matplotlib.pyplot as plt\n",
    "import numpy as np\n",
    "x_points=data.Year\n",
    "y_points=data.Frequency\n",
    "plt.bar(x_points,y_points)\n",
    "plt.show()"
   ],
   "id": "1ebce8bba1ef907",
   "outputs": [
    {
     "data": {
      "text/plain": [
       "<Figure size 640x480 with 1 Axes>"
      ],
      "image/png": "[encoded data removed]"
     },
     "metadata": {},
     "output_type": "display_data"
    }
   ],
   "execution_count": 31
  }
 ],
 "metadata": {
  "kernelspec": {
   "display_name": "Python 3",
   "language": "python",
   "name": "python3"
  },
  "language_info": {
   "codemirror_mode": {
    "name": "ipython",
    "version": 2
   },
   "file_extension": ".py",
   "mimetype": "text/x-python",
   "name": "python",
   "nbconvert_exporter": "python",
   "pygments_lexer": "ipython2",
   "version": "2.7.6"
  }
 },
 "nbformat": 4,
 "nbformat_minor": 5
}
