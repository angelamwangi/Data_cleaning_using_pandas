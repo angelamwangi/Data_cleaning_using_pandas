{
 "cells": [
  {
   "metadata": {
    "ExecuteTime": {
     "end_time": "2025-04-11T08:26:55.772293Z",
     "start_time": "2025-04-11T08:26:55.755141Z"
    }
   },
   "cell_type": "code",
   "source": [
    "from gettext import install\n",
    "\n",
    "print(\"Hello World\")"
   ],
   "id": "f11416e82f82fd0f",
   "outputs": [
    {
     "name": "stdout",
     "output_type": "stream",
     "text": [
      "Hello World\n"
     ]
    }
   ],
   "execution_count": 3
  },
  {
   "metadata": {
    "ExecuteTime": {
     "end_time": "2025-04-11T08:35:53.480780Z",
     "start_time": "2025-04-11T08:35:09.020578Z"
    }
   },
   "cell_type": "code",
   "source": "!pip install pandas",
   "id": "6972938584b2cbd9",
   "outputs": [
    {
     "name": "stdout",
     "output_type": "stream",
     "text": [
      "Collecting pandas\n",
      "  Obtaining dependency information for pandas from https://files.pythonhosted.org/packages/29/d4/1244ab8edf173a10fd601f7e13b9566c1b525c4f365d6bee918e68381889/pandas-2.2.3-cp312-cp312-win_amd64.whl.metadata\n",
      "  Using cached pandas-2.2.3-cp312-cp312-win_amd64.whl.metadata (19 kB)\n",
      "Collecting numpy>=1.26.0 (from pandas)\n",
      "  Obtaining dependency information for numpy>=1.26.0 from https://files.pythonhosted.org/packages/46/69/8c4f928741c2a8efa255fdc7e9097527c6dc4e4df147e3cadc5d9357ce85/numpy-2.2.4-cp312-cp312-win_amd64.whl.metadata\n",
      "  Downloading numpy-2.2.4-cp312-cp312-win_amd64.whl.metadata (60 kB)\n",
      "     ---------------------------------------- 0.0/60.8 kB ? eta -:--:--\n",
      "     ------ --------------------------------- 10.2/60.8 kB ? eta -:--:--\n",
      "     ------------ ------------------------- 20.5/60.8 kB 217.9 kB/s eta 0:00:01\n",
      "     ------------------------- ------------ 41.0/60.8 kB 326.8 kB/s eta 0:00:01\n",
      "     -------------------------------------- 60.8/60.8 kB 322.3 kB/s eta 0:00:00\n",
      "Requirement already satisfied: python-dateutil>=2.8.2 in c:\\users\\angie\\pycharmprojects\\pythonproject\\.venv\\lib\\site-packages (from pandas) (2.9.0.post0)\n",
      "Collecting pytz>=2020.1 (from pandas)\n",
      "  Obtaining dependency information for pytz>=2020.1 from https://files.pythonhosted.org/packages/81/c4/34e93fe5f5429d7570ec1fa436f1986fb1f00c3e0f43a589fe2bbcd22c3f/pytz-2025.2-py2.py3-none-any.whl.metadata\n",
      "  Downloading pytz-2025.2-py2.py3-none-any.whl.metadata (22 kB)\n",
      "Collecting tzdata>=2022.7 (from pandas)\n",
      "  Obtaining dependency information for tzdata>=2022.7 from https://files.pythonhosted.org/packages/5c/23/c7abc0ca0a1526a0774eca151daeb8de62ec457e77262b66b359c3c7679e/tzdata-2025.2-py2.py3-none-any.whl.metadata\n",
      "  Downloading tzdata-2025.2-py2.py3-none-any.whl.metadata (1.4 kB)\n",
      "Requirement already satisfied: six>=1.5 in c:\\users\\angie\\pycharmprojects\\pythonproject\\.venv\\lib\\site-packages (from python-dateutil>=2.8.2->pandas) (1.17.0)\n",
      "Using cached pandas-2.2.3-cp312-cp312-win_amd64.whl (11.5 MB)\n",
      "Downloading numpy-2.2.4-cp312-cp312-win_amd64.whl (12.6 MB)\n",
      "   ---------------------------------------- 0.0/12.6 MB ? eta -:--:--\n",
      "   ---------------------------------------- 0.1/12.6 MB 3.2 MB/s eta 0:00:04\n",
      "   ---------------------------------------- 0.1/12.6 MB 1.7 MB/s eta 0:00:08\n",
      "    --------------------------------------- 0.2/12.6 MB 1.6 MB/s eta 0:00:08\n",
      "    --------------------------------------- 0.3/12.6 MB 1.8 MB/s eta 0:00:07\n",
      "   - -------------------------------------- 0.6/12.6 MB 2.6 MB/s eta 0:00:05\n",
      "   -- ------------------------------------- 0.8/12.6 MB 2.7 MB/s eta 0:00:05\n",
      "   -- ------------------------------------- 0.8/12.6 MB 2.7 MB/s eta 0:00:05\n",
      "   -- ------------------------------------- 0.8/12.6 MB 2.7 MB/s eta 0:00:05\n",
      "   -- ------------------------------------- 0.8/12.6 MB 2.7 MB/s eta 0:00:05\n",
      "   -- ------------------------------------- 0.8/12.6 MB 2.7 MB/s eta 0:00:05\n",
      "   --- ------------------------------------ 1.1/12.6 MB 2.2 MB/s eta 0:00:06\n",
      "   ---- ----------------------------------- 1.4/12.6 MB 2.5 MB/s eta 0:00:05\n",
      "   ---- ----------------------------------- 1.5/12.6 MB 2.5 MB/s eta 0:00:05\n",
      "   ---- ----------------------------------- 1.5/12.6 MB 2.5 MB/s eta 0:00:05\n",
      "   ---- ----------------------------------- 1.6/12.6 MB 2.2 MB/s eta 0:00:06\n",
      "   ------ --------------------------------- 1.9/12.6 MB 2.6 MB/s eta 0:00:05\n",
      "   ------ --------------------------------- 2.0/12.6 MB 2.6 MB/s eta 0:00:05\n",
      "   ------ --------------------------------- 2.2/12.6 MB 2.6 MB/s eta 0:00:05\n",
      "   ------- -------------------------------- 2.3/12.6 MB 2.5 MB/s eta 0:00:05\n",
      "   ------- -------------------------------- 2.3/12.6 MB 2.6 MB/s eta 0:00:05\n",
      "   ------- -------------------------------- 2.3/12.6 MB 2.6 MB/s eta 0:00:05\n",
      "   ------- -------------------------------- 2.4/12.6 MB 2.3 MB/s eta 0:00:05\n",
      "   ------- -------------------------------- 2.5/12.6 MB 2.3 MB/s eta 0:00:05\n",
      "   ------- -------------------------------- 2.5/12.6 MB 2.3 MB/s eta 0:00:05\n",
      "   -------- ------------------------------- 2.7/12.6 MB 2.2 MB/s eta 0:00:05\n",
      "   --------- ------------------------------ 2.9/12.6 MB 2.4 MB/s eta 0:00:05\n",
      "   ---------- ----------------------------- 3.2/12.6 MB 2.5 MB/s eta 0:00:04\n",
      "   ---------- ----------------------------- 3.2/12.6 MB 2.5 MB/s eta 0:00:04\n",
      "   ---------- ----------------------------- 3.3/12.6 MB 2.4 MB/s eta 0:00:04\n",
      "   ----------- ---------------------------- 3.6/12.6 MB 2.5 MB/s eta 0:00:04\n",
      "   ----------- ---------------------------- 3.7/12.6 MB 2.5 MB/s eta 0:00:04\n",
      "   ----------- ---------------------------- 3.7/12.6 MB 2.5 MB/s eta 0:00:04\n",
      "   ------------ --------------------------- 3.9/12.6 MB 2.5 MB/s eta 0:00:04\n",
      "   ------------ --------------------------- 3.9/12.6 MB 2.4 MB/s eta 0:00:04\n",
      "   ------------ --------------------------- 4.0/12.6 MB 2.4 MB/s eta 0:00:04\n",
      "   ------------ --------------------------- 4.1/12.6 MB 2.4 MB/s eta 0:00:04\n",
      "   ------------- -------------------------- 4.2/12.6 MB 2.4 MB/s eta 0:00:04\n",
      "   ------------- -------------------------- 4.3/12.6 MB 2.4 MB/s eta 0:00:04\n",
      "   ------------- -------------------------- 4.4/12.6 MB 2.4 MB/s eta 0:00:04\n",
      "   -------------- ------------------------- 4.5/12.6 MB 2.4 MB/s eta 0:00:04\n",
      "   -------------- ------------------------- 4.6/12.6 MB 2.4 MB/s eta 0:00:04\n",
      "   -------------- ------------------------- 4.7/12.6 MB 2.4 MB/s eta 0:00:04\n",
      "   --------------- ------------------------ 4.8/12.6 MB 2.4 MB/s eta 0:00:04\n",
      "   --------------- ------------------------ 4.9/12.6 MB 2.4 MB/s eta 0:00:04\n",
      "   --------------- ------------------------ 5.0/12.6 MB 2.4 MB/s eta 0:00:04\n",
      "   ---------------- ----------------------- 5.1/12.6 MB 2.4 MB/s eta 0:00:04\n",
      "   ---------------- ----------------------- 5.2/12.6 MB 2.4 MB/s eta 0:00:04\n",
      "   ---------------- ----------------------- 5.4/12.6 MB 2.4 MB/s eta 0:00:04\n",
      "   ----------------- ---------------------- 5.4/12.6 MB 2.4 MB/s eta 0:00:04\n",
      "   ----------------- ---------------------- 5.5/12.6 MB 2.3 MB/s eta 0:00:04\n",
      "   ----------------- ---------------------- 5.7/12.6 MB 2.3 MB/s eta 0:00:03\n",
      "   ------------------ --------------------- 5.8/12.6 MB 2.3 MB/s eta 0:00:03\n",
      "   ------------------ --------------------- 5.9/12.6 MB 2.3 MB/s eta 0:00:03\n",
      "   ------------------ --------------------- 6.0/12.6 MB 2.3 MB/s eta 0:00:03\n",
      "   ------------------- -------------------- 6.1/12.6 MB 2.3 MB/s eta 0:00:03\n",
      "   ------------------- -------------------- 6.2/12.6 MB 2.3 MB/s eta 0:00:03\n",
      "   ------------------- -------------------- 6.3/12.6 MB 2.3 MB/s eta 0:00:03\n",
      "   -------------------- ------------------- 6.4/12.6 MB 2.3 MB/s eta 0:00:03\n",
      "   -------------------- ------------------- 6.5/12.6 MB 2.3 MB/s eta 0:00:03\n",
      "   -------------------- ------------------- 6.6/12.6 MB 2.3 MB/s eta 0:00:03\n",
      "   --------------------- ------------------ 6.7/12.6 MB 2.3 MB/s eta 0:00:03\n",
      "   --------------------- ------------------ 6.9/12.6 MB 2.3 MB/s eta 0:00:03\n",
      "   ---------------------- ----------------- 7.0/12.6 MB 2.3 MB/s eta 0:00:03\n",
      "   ---------------------- ----------------- 7.1/12.6 MB 2.3 MB/s eta 0:00:03\n",
      "   ---------------------- ----------------- 7.2/12.6 MB 2.3 MB/s eta 0:00:03\n",
      "   ----------------------- ---------------- 7.3/12.6 MB 2.3 MB/s eta 0:00:03\n",
      "   ----------------------- ---------------- 7.4/12.6 MB 2.3 MB/s eta 0:00:03\n",
      "   ----------------------- ---------------- 7.5/12.6 MB 2.3 MB/s eta 0:00:03\n",
      "   ------------------------ --------------- 7.6/12.6 MB 2.3 MB/s eta 0:00:03\n",
      "   ------------------------ --------------- 7.8/12.6 MB 2.3 MB/s eta 0:00:03\n",
      "   ------------------------ --------------- 7.9/12.6 MB 2.3 MB/s eta 0:00:03\n",
      "   ------------------------- -------------- 8.0/12.6 MB 2.3 MB/s eta 0:00:02\n",
      "   ------------------------- -------------- 8.1/12.6 MB 2.3 MB/s eta 0:00:02\n",
      "   ------------------------- -------------- 8.2/12.6 MB 2.3 MB/s eta 0:00:02\n",
      "   -------------------------- ------------- 8.3/12.6 MB 2.3 MB/s eta 0:00:02\n",
      "   -------------------------- ------------- 8.4/12.6 MB 2.3 MB/s eta 0:00:02\n",
      "   -------------------------- ------------- 8.5/12.6 MB 2.3 MB/s eta 0:00:02\n",
      "   --------------------------- ------------ 8.6/12.6 MB 2.3 MB/s eta 0:00:02\n",
      "   --------------------------- ------------ 8.7/12.6 MB 2.3 MB/s eta 0:00:02\n",
      "   --------------------------- ------------ 8.8/12.6 MB 2.3 MB/s eta 0:00:02\n",
      "   ---------------------------- ----------- 9.0/12.6 MB 2.3 MB/s eta 0:00:02\n",
      "   ---------------------------- ----------- 9.1/12.6 MB 2.3 MB/s eta 0:00:02\n",
      "   ----------------------------- ---------- 9.2/12.6 MB 2.3 MB/s eta 0:00:02\n",
      "   ----------------------------- ---------- 9.3/12.6 MB 2.3 MB/s eta 0:00:02\n",
      "   ----------------------------- ---------- 9.4/12.6 MB 2.3 MB/s eta 0:00:02\n",
      "   ------------------------------ --------- 9.5/12.6 MB 2.3 MB/s eta 0:00:02\n",
      "   ------------------------------ --------- 9.6/12.6 MB 2.3 MB/s eta 0:00:02\n",
      "   ------------------------------ --------- 9.7/12.6 MB 2.3 MB/s eta 0:00:02\n",
      "   ------------------------------- -------- 9.8/12.6 MB 2.3 MB/s eta 0:00:02\n",
      "   ------------------------------- -------- 9.9/12.6 MB 2.3 MB/s eta 0:00:02\n",
      "   ------------------------------- -------- 10.0/12.6 MB 2.3 MB/s eta 0:00:02\n",
      "   -------------------------------- ------- 10.1/12.6 MB 2.3 MB/s eta 0:00:02\n",
      "   -------------------------------- ------- 10.3/12.6 MB 2.3 MB/s eta 0:00:02\n",
      "   -------------------------------- ------- 10.3/12.6 MB 2.3 MB/s eta 0:00:01\n",
      "   --------------------------------- ------ 10.5/12.6 MB 2.3 MB/s eta 0:00:01\n",
      "   --------------------------------- ------ 10.6/12.6 MB 2.3 MB/s eta 0:00:01\n",
      "   --------------------------------- ------ 10.7/12.6 MB 2.3 MB/s eta 0:00:01\n",
      "   ---------------------------------- ----- 10.8/12.6 MB 2.3 MB/s eta 0:00:01\n",
      "   ---------------------------------- ----- 10.9/12.6 MB 2.3 MB/s eta 0:00:01\n",
      "   ---------------------------------- ----- 11.0/12.6 MB 2.3 MB/s eta 0:00:01\n",
      "   ----------------------------------- ---- 11.1/12.6 MB 2.4 MB/s eta 0:00:01\n",
      "   ----------------------------------- ---- 11.2/12.6 MB 2.3 MB/s eta 0:00:01\n",
      "   ----------------------------------- ---- 11.3/12.6 MB 2.3 MB/s eta 0:00:01\n",
      "   ------------------------------------ --- 11.4/12.6 MB 2.3 MB/s eta 0:00:01\n",
      "   ------------------------------------ --- 11.4/12.6 MB 2.3 MB/s eta 0:00:01\n",
      "   ------------------------------------ --- 11.4/12.6 MB 2.3 MB/s eta 0:00:01\n",
      "   ------------------------------------ --- 11.7/12.6 MB 2.3 MB/s eta 0:00:01\n",
      "   ------------------------------------- -- 11.7/12.6 MB 2.3 MB/s eta 0:00:01\n",
      "   ------------------------------------- -- 11.8/12.6 MB 2.3 MB/s eta 0:00:01\n",
      "   ------------------------------------- -- 11.9/12.6 MB 2.3 MB/s eta 0:00:01\n",
      "   ------------------------------------- -- 12.0/12.6 MB 2.3 MB/s eta 0:00:01\n",
      "   -------------------------------------- - 12.1/12.6 MB 2.2 MB/s eta 0:00:01\n",
      "   -------------------------------------- - 12.2/12.6 MB 2.2 MB/s eta 0:00:01\n",
      "   -------------------------------------- - 12.2/12.6 MB 2.2 MB/s eta 0:00:01\n",
      "   ---------------------------------------  12.3/12.6 MB 2.2 MB/s eta 0:00:01\n",
      "   ---------------------------------------  12.4/12.6 MB 2.2 MB/s eta 0:00:01\n",
      "   ---------------------------------------  12.5/12.6 MB 2.2 MB/s eta 0:00:01\n",
      "   ---------------------------------------  12.6/12.6 MB 2.2 MB/s eta 0:00:01\n",
      "   ---------------------------------------  12.6/12.6 MB 2.2 MB/s eta 0:00:01\n",
      "   ---------------------------------------  12.6/12.6 MB 2.2 MB/s eta 0:00:01\n",
      "   ---------------------------------------  12.6/12.6 MB 2.2 MB/s eta 0:00:01\n",
      "   ---------------------------------------- 12.6/12.6 MB 2.2 MB/s eta 0:00:00\n",
      "Downloading pytz-2025.2-py2.py3-none-any.whl (509 kB)\n",
      "   ---------------------------------------- 0.0/509.2 kB ? eta -:--:--\n",
      "   ----------- ---------------------------- 143.4/509.2 kB 4.3 MB/s eta 0:00:01\n",
      "   ------------- -------------------------- 174.1/509.2 kB 2.6 MB/s eta 0:00:01\n",
      "   ------------- -------------------------- 174.1/509.2 kB 2.6 MB/s eta 0:00:01\n",
      "   ------------- -------------------------- 174.1/509.2 kB 2.6 MB/s eta 0:00:01\n",
      "   ------------- -------------------------- 174.1/509.2 kB 2.6 MB/s eta 0:00:01\n",
      "   ------------- -------------------------- 174.1/509.2 kB 2.6 MB/s eta 0:00:01\n",
      "   ------------- -------------------------- 174.1/509.2 kB 2.6 MB/s eta 0:00:01\n",
      "   ------------- -------------------------- 174.1/509.2 kB 2.6 MB/s eta 0:00:01\n",
      "   ------------- -------------------------- 174.1/509.2 kB 2.6 MB/s eta 0:00:01\n",
      "   ------------- -------------------------- 174.1/509.2 kB 2.6 MB/s eta 0:00:01\n",
      "   ------------- -------------------------- 174.1/509.2 kB 2.6 MB/s eta 0:00:01\n",
      "   ------------- -------------------------- 174.1/509.2 kB 2.6 MB/s eta 0:00:01\n",
      "   ------------- -------------------------- 174.1/509.2 kB 2.6 MB/s eta 0:00:01\n",
      "   ------------- -------------------------- 174.1/509.2 kB 2.6 MB/s eta 0:00:01\n",
      "   ------------------------ ------------- 327.7/509.2 kB 451.6 kB/s eta 0:00:01\n",
      "   ------------------------ ------------- 327.7/509.2 kB 451.6 kB/s eta 0:00:01\n",
      "   ------------------------ ------------- 327.7/509.2 kB 451.6 kB/s eta 0:00:01\n",
      "   ------------------------- ------------ 337.9/509.2 kB 388.7 kB/s eta 0:00:01\n",
      "   ------------------------- ------------ 337.9/509.2 kB 388.7 kB/s eta 0:00:01\n",
      "   -------------------------- ----------- 358.4/509.2 kB 371.6 kB/s eta 0:00:01\n",
      "   ----------------------------- -------- 389.1/509.2 kB 385.0 kB/s eta 0:00:01\n",
      "   --------------------------------- ---- 450.6/509.2 kB 427.1 kB/s eta 0:00:01\n",
      "   -------------------------------------  501.8/509.2 kB 462.8 kB/s eta 0:00:01\n",
      "   -------------------------------------- 509.2/509.2 kB 449.9 kB/s eta 0:00:00\n",
      "Downloading tzdata-2025.2-py2.py3-none-any.whl (347 kB)\n",
      "   ---------------------------------------- 0.0/347.8 kB ? eta -:--:--\n",
      "   ------------ --------------------------- 112.6/347.8 kB 3.2 MB/s eta 0:00:01\n",
      "   ---------------------- ----------------- 194.6/347.8 kB 2.9 MB/s eta 0:00:01\n",
      "   -------------------------------- ------- 286.7/347.8 kB 2.2 MB/s eta 0:00:01\n",
      "   -------------------------------------- - 337.9/347.8 kB 2.3 MB/s eta 0:00:01\n",
      "   ---------------------------------------- 347.8/347.8 kB 1.8 MB/s eta 0:00:00\n",
      "Installing collected packages: pytz, tzdata, numpy, pandas\n",
      "Successfully installed numpy-2.2.4 pandas-2.2.3 pytz-2025.2 tzdata-2025.2\n"
     ]
    },
    {
     "name": "stderr",
     "output_type": "stream",
     "text": [
      "\n",
      "[notice] A new release of pip is available: 23.2.1 -> 25.0.1\n",
      "[notice] To update, run: python.exe -m pip install --upgrade pip\n"
     ]
    }
   ],
   "execution_count": 6
  },
  {
   "metadata": {
    "ExecuteTime": {
     "end_time": "2025-04-11T08:36:57.253148Z",
     "start_time": "2025-04-11T08:36:57.229352Z"
    }
   },
   "cell_type": "code",
   "source": [
    "import pandas as pd\n",
    "data=pd.read_csv( \"iris_flower_p/IRIS.csv\" )\n",
    "#to get first 5 rows of the data set\n",
    "data.head()"
   ],
   "id": "47e74f7610effa26",
   "outputs": [
    {
     "data": {
      "text/plain": [
       "   sepal_length  sepal_width  petal_length  petal_width      species\n",
       "0           5.1          3.5           1.4          0.2  Iris-setosa\n",
       "1           4.9          3.0           1.4          0.2  Iris-setosa\n",
       "2           4.7          3.2           1.3          0.2  Iris-setosa\n",
       "3           4.6          3.1           1.5          0.2  Iris-setosa\n",
       "4           5.0          3.6           1.4          0.2  Iris-setosa"
      ],
      "text/html": [
       "<div>\n",
       "<style scoped>\n",
       "    .dataframe tbody tr th:only-of-type {\n",
       "        vertical-align: middle;\n",
       "    }\n",
       "\n",
       "    .dataframe tbody tr th {\n",
       "        vertical-align: top;\n",
       "    }\n",
       "\n",
       "    .dataframe thead th {\n",
       "        text-align: right;\n",
       "    }\n",
       "</style>\n",
       "<table border=\"1\" class=\"dataframe\">\n",
       "  <thead>\n",
       "    <tr style=\"text-align: right;\">\n",
       "      <th></th>\n",
       "      <th>sepal_length</th>\n",
       "      <th>sepal_width</th>\n",
       "      <th>petal_length</th>\n",
       "      <th>petal_width</th>\n",
       "      <th>species</th>\n",
       "    </tr>\n",
       "  </thead>\n",
       "  <tbody>\n",
       "    <tr>\n",
       "      <th>0</th>\n",
       "      <td>5.1</td>\n",
       "      <td>3.5</td>\n",
       "      <td>1.4</td>\n",
       "      <td>0.2</td>\n",
       "      <td>Iris-setosa</td>\n",
       "    </tr>\n",
       "    <tr>\n",
       "      <th>1</th>\n",
       "      <td>4.9</td>\n",
       "      <td>3.0</td>\n",
       "      <td>1.4</td>\n",
       "      <td>0.2</td>\n",
       "      <td>Iris-setosa</td>\n",
       "    </tr>\n",
       "    <tr>\n",
       "      <th>2</th>\n",
       "      <td>4.7</td>\n",
       "      <td>3.2</td>\n",
       "      <td>1.3</td>\n",
       "      <td>0.2</td>\n",
       "      <td>Iris-setosa</td>\n",
       "    </tr>\n",
       "    <tr>\n",
       "      <th>3</th>\n",
       "      <td>4.6</td>\n",
       "      <td>3.1</td>\n",
       "      <td>1.5</td>\n",
       "      <td>0.2</td>\n",
       "      <td>Iris-setosa</td>\n",
       "    </tr>\n",
       "    <tr>\n",
       "      <th>4</th>\n",
       "      <td>5.0</td>\n",
       "      <td>3.6</td>\n",
       "      <td>1.4</td>\n",
       "      <td>0.2</td>\n",
       "      <td>Iris-setosa</td>\n",
       "    </tr>\n",
       "  </tbody>\n",
       "</table>\n",
       "</div>"
      ]
     },
     "execution_count": 8,
     "metadata": {},
     "output_type": "execute_result"
    }
   ],
   "execution_count": 8
  },
  {
   "metadata": {
    "ExecuteTime": {
     "end_time": "2025-04-11T08:56:38.671215Z",
     "start_time": "2025-04-11T08:56:38.655235Z"
    }
   },
   "cell_type": "code",
   "source": [
    "#to know number of rows and columns in the data set\n",
    "data.shape"
   ],
   "id": "2fc394ea57ff4126",
   "outputs": [
    {
     "data": {
      "text/plain": [
       "(150, 5)"
      ]
     },
     "execution_count": 16,
     "metadata": {},
     "output_type": "execute_result"
    }
   ],
   "execution_count": 16
  },
  {
   "metadata": {
    "ExecuteTime": {
     "end_time": "2025-04-11T08:58:29.985240Z",
     "start_time": "2025-04-11T08:58:29.967556Z"
    }
   },
   "cell_type": "code",
   "source": [
    "#to know the columns and their data types\n",
    "data.info()\n",
    "#the object in species means that it is a categorical data"
   ],
   "id": "1708872e0f86672a",
   "outputs": [
    {
     "name": "stdout",
     "output_type": "stream",
     "text": [
      "<class 'pandas.core.frame.DataFrame'>\n",
      "RangeIndex: 150 entries, 0 to 149\n",
      "Data columns (total 5 columns):\n",
      " #   Column        Non-Null Count  Dtype  \n",
      "---  ------        --------------  -----  \n",
      " 0   sepal_length  150 non-null    float64\n",
      " 1   sepal_width   150 non-null    float64\n",
      " 2   petal_length  150 non-null    float64\n",
      " 3   petal_width   150 non-null    float64\n",
      " 4   species       150 non-null    object \n",
      "dtypes: float64(4), object(1)\n",
      "memory usage: 6.0+ KB\n"
     ]
    }
   ],
   "execution_count": 17
  },
  {
   "metadata": {
    "ExecuteTime": {
     "end_time": "2025-04-11T09:03:57.753815Z",
     "start_time": "2025-04-11T09:03:57.723868Z"
    }
   },
   "cell_type": "code",
   "source": [
    "#to more about the data set\n",
    "data.describe()"
   ],
   "id": "c8f097ff2594a046",
   "outputs": [
    {
     "data": {
      "text/plain": [
       "       sepal_length  sepal_width  petal_length  petal_width\n",
       "count    150.000000   150.000000    150.000000   150.000000\n",
       "mean       5.843333     3.054000      3.758667     1.198667\n",
       "std        0.828066     0.433594      1.764420     0.763161\n",
       "min        4.300000     2.000000      1.000000     0.100000\n",
       "25%        5.100000     2.800000      1.600000     0.300000\n",
       "50%        5.800000     3.000000      4.350000     1.300000\n",
       "75%        6.400000     3.300000      5.100000     1.800000\n",
       "max        7.900000     4.400000      6.900000     2.500000"
      ],
      "text/html": [
       "<div>\n",
       "<style scoped>\n",
       "    .dataframe tbody tr th:only-of-type {\n",
       "        vertical-align: middle;\n",
       "    }\n",
       "\n",
       "    .dataframe tbody tr th {\n",
       "        vertical-align: top;\n",
       "    }\n",
       "\n",
       "    .dataframe thead th {\n",
       "        text-align: right;\n",
       "    }\n",
       "</style>\n",
       "<table border=\"1\" class=\"dataframe\">\n",
       "  <thead>\n",
       "    <tr style=\"text-align: right;\">\n",
       "      <th></th>\n",
       "      <th>sepal_length</th>\n",
       "      <th>sepal_width</th>\n",
       "      <th>petal_length</th>\n",
       "      <th>petal_width</th>\n",
       "    </tr>\n",
       "  </thead>\n",
       "  <tbody>\n",
       "    <tr>\n",
       "      <th>count</th>\n",
       "      <td>150.000000</td>\n",
       "      <td>150.000000</td>\n",
       "      <td>150.000000</td>\n",
       "      <td>150.000000</td>\n",
       "    </tr>\n",
       "    <tr>\n",
       "      <th>mean</th>\n",
       "      <td>5.843333</td>\n",
       "      <td>3.054000</td>\n",
       "      <td>3.758667</td>\n",
       "      <td>1.198667</td>\n",
       "    </tr>\n",
       "    <tr>\n",
       "      <th>std</th>\n",
       "      <td>0.828066</td>\n",
       "      <td>0.433594</td>\n",
       "      <td>1.764420</td>\n",
       "      <td>0.763161</td>\n",
       "    </tr>\n",
       "    <tr>\n",
       "      <th>min</th>\n",
       "      <td>4.300000</td>\n",
       "      <td>2.000000</td>\n",
       "      <td>1.000000</td>\n",
       "      <td>0.100000</td>\n",
       "    </tr>\n",
       "    <tr>\n",
       "      <th>25%</th>\n",
       "      <td>5.100000</td>\n",
       "      <td>2.800000</td>\n",
       "      <td>1.600000</td>\n",
       "      <td>0.300000</td>\n",
       "    </tr>\n",
       "    <tr>\n",
       "      <th>50%</th>\n",
       "      <td>5.800000</td>\n",
       "      <td>3.000000</td>\n",
       "      <td>4.350000</td>\n",
       "      <td>1.300000</td>\n",
       "    </tr>\n",
       "    <tr>\n",
       "      <th>75%</th>\n",
       "      <td>6.400000</td>\n",
       "      <td>3.300000</td>\n",
       "      <td>5.100000</td>\n",
       "      <td>1.800000</td>\n",
       "    </tr>\n",
       "    <tr>\n",
       "      <th>max</th>\n",
       "      <td>7.900000</td>\n",
       "      <td>4.400000</td>\n",
       "      <td>6.900000</td>\n",
       "      <td>2.500000</td>\n",
       "    </tr>\n",
       "  </tbody>\n",
       "</table>\n",
       "</div>"
      ]
     },
     "execution_count": 18,
     "metadata": {},
     "output_type": "execute_result"
    }
   ],
   "execution_count": 18
  },
  {
   "metadata": {
    "ExecuteTime": {
     "end_time": "2025-04-11T08:38:25.499463Z",
     "start_time": "2025-04-11T08:38:25.481861Z"
    }
   },
   "cell_type": "code",
   "source": [
    "#to check if there is any missing value in the data set\n",
    "data.isnull()"
   ],
   "id": "1d300731409f0eea",
   "outputs": [
    {
     "data": {
      "text/plain": [
       "     sepal_length  sepal_width  petal_length  petal_width  species\n",
       "0           False        False         False        False    False\n",
       "1           False        False         False        False    False\n",
       "2           False        False         False        False    False\n",
       "3           False        False         False        False    False\n",
       "4           False        False         False        False    False\n",
       "..            ...          ...           ...          ...      ...\n",
       "145         False        False         False        False    False\n",
       "146         False        False         False        False    False\n",
       "147         False        False         False        False    False\n",
       "148         False        False         False        False    False\n",
       "149         False        False         False        False    False\n",
       "\n",
       "[150 rows x 5 columns]"
      ],
      "text/html": [
       "<div>\n",
       "<style scoped>\n",
       "    .dataframe tbody tr th:only-of-type {\n",
       "        vertical-align: middle;\n",
       "    }\n",
       "\n",
       "    .dataframe tbody tr th {\n",
       "        vertical-align: top;\n",
       "    }\n",
       "\n",
       "    .dataframe thead th {\n",
       "        text-align: right;\n",
       "    }\n",
       "</style>\n",
       "<table border=\"1\" class=\"dataframe\">\n",
       "  <thead>\n",
       "    <tr style=\"text-align: right;\">\n",
       "      <th></th>\n",
       "      <th>sepal_length</th>\n",
       "      <th>sepal_width</th>\n",
       "      <th>petal_length</th>\n",
       "      <th>petal_width</th>\n",
       "      <th>species</th>\n",
       "    </tr>\n",
       "  </thead>\n",
       "  <tbody>\n",
       "    <tr>\n",
       "      <th>0</th>\n",
       "      <td>False</td>\n",
       "      <td>False</td>\n",
       "      <td>False</td>\n",
       "      <td>False</td>\n",
       "      <td>False</td>\n",
       "    </tr>\n",
       "    <tr>\n",
       "      <th>1</th>\n",
       "      <td>False</td>\n",
       "      <td>False</td>\n",
       "      <td>False</td>\n",
       "      <td>False</td>\n",
       "      <td>False</td>\n",
       "    </tr>\n",
       "    <tr>\n",
       "      <th>2</th>\n",
       "      <td>False</td>\n",
       "      <td>False</td>\n",
       "      <td>False</td>\n",
       "      <td>False</td>\n",
       "      <td>False</td>\n",
       "    </tr>\n",
       "    <tr>\n",
       "      <th>3</th>\n",
       "      <td>False</td>\n",
       "      <td>False</td>\n",
       "      <td>False</td>\n",
       "      <td>False</td>\n",
       "      <td>False</td>\n",
       "    </tr>\n",
       "    <tr>\n",
       "      <th>4</th>\n",
       "      <td>False</td>\n",
       "      <td>False</td>\n",
       "      <td>False</td>\n",
       "      <td>False</td>\n",
       "      <td>False</td>\n",
       "    </tr>\n",
       "    <tr>\n",
       "      <th>...</th>\n",
       "      <td>...</td>\n",
       "      <td>...</td>\n",
       "      <td>...</td>\n",
       "      <td>...</td>\n",
       "      <td>...</td>\n",
       "    </tr>\n",
       "    <tr>\n",
       "      <th>145</th>\n",
       "      <td>False</td>\n",
       "      <td>False</td>\n",
       "      <td>False</td>\n",
       "      <td>False</td>\n",
       "      <td>False</td>\n",
       "    </tr>\n",
       "    <tr>\n",
       "      <th>146</th>\n",
       "      <td>False</td>\n",
       "      <td>False</td>\n",
       "      <td>False</td>\n",
       "      <td>False</td>\n",
       "      <td>False</td>\n",
       "    </tr>\n",
       "    <tr>\n",
       "      <th>147</th>\n",
       "      <td>False</td>\n",
       "      <td>False</td>\n",
       "      <td>False</td>\n",
       "      <td>False</td>\n",
       "      <td>False</td>\n",
       "    </tr>\n",
       "    <tr>\n",
       "      <th>148</th>\n",
       "      <td>False</td>\n",
       "      <td>False</td>\n",
       "      <td>False</td>\n",
       "      <td>False</td>\n",
       "      <td>False</td>\n",
       "    </tr>\n",
       "    <tr>\n",
       "      <th>149</th>\n",
       "      <td>False</td>\n",
       "      <td>False</td>\n",
       "      <td>False</td>\n",
       "      <td>False</td>\n",
       "      <td>False</td>\n",
       "    </tr>\n",
       "  </tbody>\n",
       "</table>\n",
       "<p>150 rows × 5 columns</p>\n",
       "</div>"
      ]
     },
     "execution_count": 9,
     "metadata": {},
     "output_type": "execute_result"
    }
   ],
   "execution_count": 9
  },
  {
   "metadata": {
    "ExecuteTime": {
     "end_time": "2025-04-11T08:41:33.379390Z",
     "start_time": "2025-04-11T08:41:33.371423Z"
    }
   },
   "cell_type": "code",
   "source": [
    "#to find the sum of the missing values rows in the data set\n",
    "data.isna().sum()"
   ],
   "id": "58bd4efba0882989",
   "outputs": [
    {
     "data": {
      "text/plain": [
       "sepal_length    0\n",
       "sepal_width     0\n",
       "petal_length    0\n",
       "petal_width     0\n",
       "species         0\n",
       "dtype: int64"
      ]
     },
     "execution_count": 11,
     "metadata": {},
     "output_type": "execute_result"
    }
   ],
   "execution_count": 11
  },
  {
   "metadata": {
    "ExecuteTime": {
     "end_time": "2025-04-11T08:47:28.014113Z",
     "start_time": "2025-04-11T08:47:28.000383Z"
    }
   },
   "cell_type": "code",
   "source": [
    "#to check for duplicated values\n",
    "data.duplicated()\n",
    "#if there are duplicates, you can remove them with drop_duplicates() function"
   ],
   "id": "94733de58b976d0d",
   "outputs": [
    {
     "data": {
      "text/plain": [
       "0      False\n",
       "1      False\n",
       "2      False\n",
       "3      False\n",
       "4      False\n",
       "       ...  \n",
       "145    False\n",
       "146    False\n",
       "147    False\n",
       "148    False\n",
       "149    False\n",
       "Length: 150, dtype: bool"
      ]
     },
     "execution_count": 12,
     "metadata": {},
     "output_type": "execute_result"
    }
   ],
   "execution_count": 12
  },
  {
   "metadata": {
    "ExecuteTime": {
     "end_time": "2025-04-11T08:48:48.896256Z",
     "start_time": "2025-04-11T08:48:48.874674Z"
    }
   },
   "cell_type": "code",
   "source": "data.drop_duplicates()",
   "id": "8e4d7d4bb36f4b16",
   "outputs": [
    {
     "data": {
      "text/plain": [
       "     sepal_length  sepal_width  petal_length  petal_width         species\n",
       "0             5.1          3.5           1.4          0.2     Iris-setosa\n",
       "1             4.9          3.0           1.4          0.2     Iris-setosa\n",
       "2             4.7          3.2           1.3          0.2     Iris-setosa\n",
       "3             4.6          3.1           1.5          0.2     Iris-setosa\n",
       "4             5.0          3.6           1.4          0.2     Iris-setosa\n",
       "..            ...          ...           ...          ...             ...\n",
       "145           6.7          3.0           5.2          2.3  Iris-virginica\n",
       "146           6.3          2.5           5.0          1.9  Iris-virginica\n",
       "147           6.5          3.0           5.2          2.0  Iris-virginica\n",
       "148           6.2          3.4           5.4          2.3  Iris-virginica\n",
       "149           5.9          3.0           5.1          1.8  Iris-virginica\n",
       "\n",
       "[147 rows x 5 columns]"
      ],
      "text/html": [
       "<div>\n",
       "<style scoped>\n",
       "    .dataframe tbody tr th:only-of-type {\n",
       "        vertical-align: middle;\n",
       "    }\n",
       "\n",
       "    .dataframe tbody tr th {\n",
       "        vertical-align: top;\n",
       "    }\n",
       "\n",
       "    .dataframe thead th {\n",
       "        text-align: right;\n",
       "    }\n",
       "</style>\n",
       "<table border=\"1\" class=\"dataframe\">\n",
       "  <thead>\n",
       "    <tr style=\"text-align: right;\">\n",
       "      <th></th>\n",
       "      <th>sepal_length</th>\n",
       "      <th>sepal_width</th>\n",
       "      <th>petal_length</th>\n",
       "      <th>petal_width</th>\n",
       "      <th>species</th>\n",
       "    </tr>\n",
       "  </thead>\n",
       "  <tbody>\n",
       "    <tr>\n",
       "      <th>0</th>\n",
       "      <td>5.1</td>\n",
       "      <td>3.5</td>\n",
       "      <td>1.4</td>\n",
       "      <td>0.2</td>\n",
       "      <td>Iris-setosa</td>\n",
       "    </tr>\n",
       "    <tr>\n",
       "      <th>1</th>\n",
       "      <td>4.9</td>\n",
       "      <td>3.0</td>\n",
       "      <td>1.4</td>\n",
       "      <td>0.2</td>\n",
       "      <td>Iris-setosa</td>\n",
       "    </tr>\n",
       "    <tr>\n",
       "      <th>2</th>\n",
       "      <td>4.7</td>\n",
       "      <td>3.2</td>\n",
       "      <td>1.3</td>\n",
       "      <td>0.2</td>\n",
       "      <td>Iris-setosa</td>\n",
       "    </tr>\n",
       "    <tr>\n",
       "      <th>3</th>\n",
       "      <td>4.6</td>\n",
       "      <td>3.1</td>\n",
       "      <td>1.5</td>\n",
       "      <td>0.2</td>\n",
       "      <td>Iris-setosa</td>\n",
       "    </tr>\n",
       "    <tr>\n",
       "      <th>4</th>\n",
       "      <td>5.0</td>\n",
       "      <td>3.6</td>\n",
       "      <td>1.4</td>\n",
       "      <td>0.2</td>\n",
       "      <td>Iris-setosa</td>\n",
       "    </tr>\n",
       "    <tr>\n",
       "      <th>...</th>\n",
       "      <td>...</td>\n",
       "      <td>...</td>\n",
       "      <td>...</td>\n",
       "      <td>...</td>\n",
       "      <td>...</td>\n",
       "    </tr>\n",
       "    <tr>\n",
       "      <th>145</th>\n",
       "      <td>6.7</td>\n",
       "      <td>3.0</td>\n",
       "      <td>5.2</td>\n",
       "      <td>2.3</td>\n",
       "      <td>Iris-virginica</td>\n",
       "    </tr>\n",
       "    <tr>\n",
       "      <th>146</th>\n",
       "      <td>6.3</td>\n",
       "      <td>2.5</td>\n",
       "      <td>5.0</td>\n",
       "      <td>1.9</td>\n",
       "      <td>Iris-virginica</td>\n",
       "    </tr>\n",
       "    <tr>\n",
       "      <th>147</th>\n",
       "      <td>6.5</td>\n",
       "      <td>3.0</td>\n",
       "      <td>5.2</td>\n",
       "      <td>2.0</td>\n",
       "      <td>Iris-virginica</td>\n",
       "    </tr>\n",
       "    <tr>\n",
       "      <th>148</th>\n",
       "      <td>6.2</td>\n",
       "      <td>3.4</td>\n",
       "      <td>5.4</td>\n",
       "      <td>2.3</td>\n",
       "      <td>Iris-virginica</td>\n",
       "    </tr>\n",
       "    <tr>\n",
       "      <th>149</th>\n",
       "      <td>5.9</td>\n",
       "      <td>3.0</td>\n",
       "      <td>5.1</td>\n",
       "      <td>1.8</td>\n",
       "      <td>Iris-virginica</td>\n",
       "    </tr>\n",
       "  </tbody>\n",
       "</table>\n",
       "<p>147 rows × 5 columns</p>\n",
       "</div>"
      ]
     },
     "execution_count": 13,
     "metadata": {},
     "output_type": "execute_result"
    }
   ],
   "execution_count": 13
  },
  {
   "metadata": {
    "ExecuteTime": {
     "end_time": "2025-04-11T09:08:25.070258Z",
     "start_time": "2025-04-11T09:08:25.046847Z"
    }
   },
   "cell_type": "code",
   "source": [
    "#value_counts()returns a Series containing counts of unique values. \n",
    "data.value_counts(\"species\")"
   ],
   "id": "14e6b0cb027cb99d",
   "outputs": [
    {
     "data": {
      "text/plain": [
       "species\n",
       "Iris-setosa        50\n",
       "Iris-versicolor    50\n",
       "Iris-virginica     50\n",
       "Name: count, dtype: int64"
      ]
     },
     "execution_count": 20,
     "metadata": {},
     "output_type": "execute_result"
    }
   ],
   "execution_count": 20
  },
  {
   "metadata": {
    "ExecuteTime": {
     "end_time": "2025-04-11T08:53:20.674557Z",
     "start_time": "2025-04-11T08:53:20.658248Z"
    }
   },
   "cell_type": "code",
   "source": [
    "#to access a column in the data set\n",
    "data.petal_length"
   ],
   "id": "a9877633ddbefc14",
   "outputs": [
    {
     "data": {
      "text/plain": [
       "0      1.4\n",
       "1      1.4\n",
       "2      1.3\n",
       "3      1.5\n",
       "4      1.4\n",
       "      ... \n",
       "145    5.2\n",
       "146    5.0\n",
       "147    5.2\n",
       "148    5.4\n",
       "149    5.1\n",
       "Name: petal_length, Length: 150, dtype: float64"
      ]
     },
     "execution_count": 14,
     "metadata": {},
     "output_type": "execute_result"
    }
   ],
   "execution_count": 14
  }
 ],
 "metadata": {
  "kernelspec": {
   "display_name": "Python 3",
   "language": "python",
   "name": "python3"
  },
  "language_info": {
   "codemirror_mode": {
    "name": "ipython",
    "version": 2
   },
   "file_extension": ".py",
   "mimetype": "text/x-python",
   "name": "python",
   "nbconvert_exporter": "python",
   "pygments_lexer": "ipython2",
   "version": "2.7.6"
  }
 },
 "nbformat": 4,
 "nbformat_minor": 5
}
